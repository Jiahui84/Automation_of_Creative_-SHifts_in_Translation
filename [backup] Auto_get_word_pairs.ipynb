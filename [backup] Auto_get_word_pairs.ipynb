{
 "cells": [
  {
   "cell_type": "code",
   "execution_count": null,
   "metadata": {},
   "outputs": [],
   "source": [
    "#read the results of word alignment, and turn it into a list with every line that tkoenized as sublists\n",
    "def getCDQ1():\n",
    "    datas = []\n",
    "    with open('output_ST-HT_align.txt', encoding='utf-8') as fr:\n",
    "        for line in fr:\n",
    "            datas.append(line.strip().split())\n",
    "    return datas\n",
    "datas = getCDQ1()"
   ]
  },
  {
   "cell_type": "code",
   "execution_count": null,
   "metadata": {},
   "outputs": [],
   "source": [
    "#set an empty list for word pairs of units of creative potential and  without UCP\n",
    "UCP = []\n",
    "noUCP = []"
   ]
  },
  {
   "cell_type": "code",
   "execution_count": null,
   "metadata": {},
   "outputs": [],
   "source": [
    "#query the aligned word pair the word order, and turn the word pair in a list per line\n",
    "#fw = open('results.txt', 'w', encoding='utf-8')\n",
    "for tg, das in zip(targets, datas):\n",
    "    tmp = []\n",
    "    tmpN = []\n",
    "    for l in tg:\n",
    "        for k in das:\n",
    "            kx = k.split('-')\n",
    "            if l == kx[0]:\n",
    "                tmp.append(k)\n",
    "            else:\n",
    "                tmpN.append(k)\n",
    "    frs = []\n",
    "    for i in tmpN:\n",
    "        if i in tmp:\n",
    "            pass\n",
    "        else:\n",
    "            frs.append(i)\n",
    "    #fw.write('\\t'.join([','.join(tg), ','.join(das), ','.join(tmp), ','.join(frs)])+'\\n')\n",
    "    #fw.flush()\n",
    "    noUCP.append(frs)\n",
    "    UCP.append(tmp)"
   ]
  },
  {
   "cell_type": "code",
   "execution_count": null,
   "metadata": {},
   "outputs": [],
   "source": [
    "# wrtie the list of word pairs without UCP every line of words in a text; the line is aligns to that in ST \n",
    "t=''\n",
    "with open ('noUCP_align.txt','w') as q:\n",
    "    for i in noUCP:\n",
    "        for e in i:\n",
    "            t=t+str(e)+' '\n",
    "        q.write(t.strip(' '))\n",
    "        q.write('\\n')\n",
    "        t=''"
   ]
  },
  {
   "cell_type": "code",
   "execution_count": null,
   "metadata": {},
   "outputs": [],
   "source": [
    "UCP"
   ]
  },
  {
   "cell_type": "code",
   "execution_count": null,
   "metadata": {},
   "outputs": [],
   "source": [
    "# wrtie the list for words pair of UCP every line of words in a text; the line is aligns to that in ST \n",
    "T=''\n",
    "with open ('UCP_align.txt','w') as q:\n",
    "    for i in UCP:\n",
    "        for e in i:\n",
    "            T=T+str(e)+' '\n",
    "        q.write(T.strip(' '))\n",
    "        q.write('\\n')\n",
    "        T=''"
   ]
  }
 ],
 "metadata": {
  "kernelspec": {
   "display_name": "Python 3",
   "language": "python",
   "name": "python3"
  },
  "language_info": {
   "codemirror_mode": {
    "name": "ipython",
    "version": 3
   },
   "file_extension": ".py",
   "mimetype": "text/x-python",
   "name": "python",
   "nbconvert_exporter": "python",
   "pygments_lexer": "ipython3",
   "version": "3.8.3"
  }
 },
 "nbformat": 4,
 "nbformat_minor": 4
}
